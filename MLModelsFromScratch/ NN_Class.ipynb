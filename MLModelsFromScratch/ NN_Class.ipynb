{
 "cells": [
  {
   "cell_type": "markdown",
   "id": "e6f462bd-6b40-42e6-a9e2-dad2bdbc48da",
   "metadata": {
    "tags": []
   },
   "source": [
    "# Numpy implementation"
   ]
  },
  {
   "cell_type": "code",
   "execution_count": 1,
   "id": "b1774df8-0c33-4a21-9c65-29aa7963f8f7",
   "metadata": {},
   "outputs": [],
   "source": [
    "class NeuralNetwork:\n",
    "    import numpy as np\n",
    "    \n",
    "    def __init__(self,  input_size, output_size, hidden_layers):\n",
    "        # Initialize weights and biases\n",
    "        self.input_size = input_size\n",
    "        self.output_size = output_size\n",
    "        self.hidden_layers = hidden_layers\n",
    "        \n",
    "        # initialise weights\n",
    "        self.params = {}\n",
    "        self.params = {\n",
    "            \"W1\" : np.random.rand(self.input_size, self.hidden_layers) * np.sqrt(1/self.input_size),\n",
    "            \"b1\" : np.zeros((1, self.hidden_layers)) * np.sqrt(1/self.input_size),\n",
    "            \"W2\" : np.random.rand(self.hidden_layers, self.output_size) * np.sqrt(1/self.hidden_layers),\n",
    "            \"b2\" : np.zeros((1, self.output_size)) * np.sqrt(1/self.hidden_layers)\n",
    "        }\n",
    "\n",
    "    def sigmoid(self, z):\n",
    "        # Activation function\n",
    "        # sigmoid = 1/(1+e^x)\n",
    "        z = np.asarray(z)\n",
    "        \n",
    "        # handle overflow of numbers with e\n",
    "        positives = (z >= 0)\n",
    "        negatives = ~(positives)\n",
    "        out = np.empty_like(z)\n",
    "        out[positives] = 1/(1+np.exp(-(z[positives])))\n",
    "        out[negatives] = np.exp(z[negatives])/(1+np.exp(z[negatives]))\n",
    "        return out\n",
    "\n",
    "    def sigmoid_derivative(self, z):\n",
    "         # Derivative of sigmoid\n",
    "        return z*(1-z)\n",
    "    \n",
    "    def softmax(self, z):\n",
    "        # to avoid overflow in expotential subtract with max \n",
    "        exp_values = np.exp(z - np.max(z, axis = 1, keepdims = True))\n",
    "        normalise_values = exp_values/ np.sum(exp_values, axis = 1, keepdims = True )\n",
    "        \n",
    "        return normalise_values\n",
    "       \n",
    "\n",
    "    def forward(self, X, y):\n",
    "        # Forward pass through the network\n",
    "        # Save intermediate values for backprop\n",
    "        self.z1 = X.dot(self.params[\"W1\"]) + self.params[\"b1\"]\n",
    "        self.a1 = self.sigmoid(self.z1)\n",
    "        self.z2 = self.a1.dot(self.params[\"W2\"]) + self.params[\"b2\"]\n",
    "        self.a2 = self.softmax(self.z2)\n",
    "        return self.a2    \n",
    "\n",
    "    \n",
    "    def backward(self, X, y):\n",
    "        # Backpropagation to calculate gradients\n",
    "        current_batch_size = y.shape[0]\n",
    "        dZ2 =  self.a2 - y\n",
    "        dw2 = (1/current_batch_size)*(np.matmul(self.a1.T,dZ2 )  )\n",
    "        db2 = (1/current_batch_size) * np.sum(dZ2, axis = 0, keepdims = True)\n",
    "        dA1 = np.matmul( dZ2, self.params[\"W2\"].T)\n",
    "        dZ1 = dA1 * self.sigmoid_derivative(self.a1)\n",
    "        dw1 = (1/current_batch_size) * np.matmul( X.T,dZ1)\n",
    "        db1 = (1/current_batch_size) * np.sum(dZ1, axis = 0, keepdims = True)\n",
    "        self.grads = {\"W1\" : dw1, \"W2\" : dw2 , \"b1\" : db1, \"b2\" : db2}\n",
    "    \n",
    "    def optimise(self, optimiser = 'sgd', learning_rate = 0.01, beta = 0.9):\n",
    "        \n",
    "        #optimiser  only SGD and momentum \n",
    "        if optimiser == \"sgd\" :\n",
    "            for key in self.params:\n",
    "                self.params[key] = self.params[key] - learning_rate * self.grads[key]\n",
    "        elif optimiser == 'momentum':\n",
    "            for key in self.params :\n",
    "                self.momemtum_opt[key] = beta * self.momemtum_opt[key] + (1-beta) * self.grads[key]\n",
    "                self.params[key] = self.params[key] - learning_rate * self.momemtum_opt[key]\n",
    "        else:\n",
    "            raise ValueError(\"Optimiser is currently not available please use SGD or Momentum\")\n",
    "            \n",
    "    def cross_entropy(self, y, p):\n",
    "        # Loss function \n",
    "        p = np.clip(p, 1e-12, 1-1e-12)\n",
    "        return -np.sum(y * np.log(p)) / y.shape[0]\n",
    "  \n",
    "        \n",
    "    def train(self, X, y, epoch = 5, learning_rate = 0.01, batch_size = 64, optimiser = 'sgd') :\n",
    "        \n",
    "        l = []\n",
    "        self.batch_size = batch_size\n",
    "        total_size = y.shape[0]\n",
    "        num_batchs =total_size // self.batch_size\n",
    "        \n",
    "        if optimiser == 'momentum':\n",
    "            self.momemtum_opt = {\n",
    "                \"W1\": np.zeros(self.params[\"W1\"].shape),\n",
    "                \"b1\": np.zeros(self.params[\"b1\"].shape),\n",
    "                \"W2\": np.zeros(self.params[\"W2\"].shape),\n",
    "                \"b2\": np.zeros(self.params[\"b2\"].shape),\n",
    "            }\n",
    "                \n",
    "        for i in range(epoch):\n",
    "            ## add permutation to shuffle data\n",
    "            # perms = np.random.permutation(X.shape[0])\n",
    "            # X = X[perms]\n",
    "            # y = y[perms]\n",
    "            for j in range(num_batchs):\n",
    "                start = j*batch_size \n",
    "                end = min(start + batch_size, total_size)\n",
    "                X_batch = X[start : end]\n",
    "                y_batch = y[start : end]\n",
    "                output = self.forward(X_batch, y_batch)\n",
    "                loss_sub = self.cross_entropy(y_batch, output)\n",
    "                self.backward(X_batch, y_batch )\n",
    "                self.optimise(optimiser = optimiser, learning_rate = learning_rate )\n",
    "                \n",
    "            print (' At the end Epoch : ', i, ' Loss : ', loss_sub )\n",
    "                \n",
    "\n",
    "    def predict_prob(self, X_test):\n",
    "        output = self.forward(X_test, None)\n",
    "        return output\n",
    "    \n",
    "    def predict(self, X_test):\n",
    "        predict_probabilities  = self.predict_prob(X_test)\n",
    "        return np.argmax(predict_probabilities, axis = -1)\n",
    "    \n",
    "    def accuracy(self, y, y_pred):  \n",
    "        return np.sum( np.argmax(y , axis = -1) == y_pred)/ y.shape[0]\n",
    "                \n",
    "        "
   ]
  },
  {
   "cell_type": "code",
   "execution_count": 2,
   "id": "65eb19ec-f094-45eb-9302-298010b8d33a",
   "metadata": {
    "tags": []
   },
   "outputs": [
    {
     "name": "stderr",
     "output_type": "stream",
     "text": [
      "/Users/prathyusharatan/anaconda3/lib/python3.11/site-packages/sklearn/datasets/_openml.py:1002: FutureWarning: The default value of `parser` will change from `'liac-arff'` to `'auto'` in 1.4. You can set `parser='auto'` to silence this warning. Therefore, an `ImportError` will be raised from 1.4 if the dataset is dense and pandas is not installed. Note that the pandas parser may return different data types. See the Notes Section in fetch_openml's API doc for details.\n",
      "  warn(\n"
     ]
    }
   ],
   "source": [
    "from sklearn.datasets import fetch_openml\n",
    "import numpy as np\n",
    "mnist_data = fetch_openml(\"mnist_784\")\n",
    "X = mnist_data[\"data\"]\n",
    "y = mnist_data[\"target\"]"
   ]
  },
  {
   "cell_type": "code",
   "execution_count": 3,
   "id": "95a39dfe-1c50-430f-b75a-1620be9dcadd",
   "metadata": {
    "tags": []
   },
   "outputs": [],
   "source": [
    "def one_hot(x, k, dtype=np.float32):\n",
    "    \"\"\"Create a one-hot encoding of x of size k.\"\"\"\n",
    "    return np.array(x[:, None] == np.arange(k), dtype)"
   ]
  },
  {
   "cell_type": "code",
   "execution_count": 4,
   "id": "f0c25ddb-0806-4833-b271-8483c57d8ebb",
   "metadata": {
    "tags": []
   },
   "outputs": [],
   "source": [
    "# Normalise Data "
   ]
  },
  {
   "cell_type": "code",
   "execution_count": 5,
   "id": "8c1f4ffa-6189-4e06-a4ab-0431e3284074",
   "metadata": {
    "tags": []
   },
   "outputs": [],
   "source": [
    "X /= 255.0"
   ]
  },
  {
   "cell_type": "code",
   "execution_count": 6,
   "id": "20976c2d-5e51-4e4b-9918-084ae71bd19f",
   "metadata": {
    "tags": []
   },
   "outputs": [
    {
     "name": "stderr",
     "output_type": "stream",
     "text": [
      "/var/folders/xs/ryhm1w5n3y95mk12lz8x0dbw0000gq/T/ipykernel_97288/2753456165.py:3: FutureWarning: Support for multi-dimensional indexing (e.g. `obj[:, None]`) is deprecated and will be removed in a future version.  Convert to a numpy array before indexing instead.\n",
      "  return np.array(x[:, None] == np.arange(k), dtype)\n"
     ]
    },
    {
     "name": "stdout",
     "output_type": "stream",
     "text": [
      " At the end Epoch :  0  Loss :  0.03504593252991885\n",
      " At the end Epoch :  1  Loss :  0.026775186077354778\n",
      " At the end Epoch :  2  Loss :  0.019484080170790122\n",
      " At the end Epoch :  3  Loss :  0.016295579725452453\n",
      " At the end Epoch :  4  Loss :  0.014124290693005189\n",
      "accuracy 96.09\n"
     ]
    }
   ],
   "source": [
    "# np.random.seed(0)\n",
    "\n",
    "# X = np.array([[0.5,0.9],[0.11,0.21],[0.45,0.86],[0.5,0.9],[0.11,0.21],[0.45,0.86],[0.5,0.9],[0.11,0.21],[0.45,0.86],[0.5,0.9],[0.11,0.21],[0.45,0.86]])\n",
    "# y = np.array([[1],[0],[1],[1],[1],[1],[1],[0],[1],[1],[1],[1]])\n",
    "\n",
    "import numpy as np\n",
    "\n",
    "X_train = np.array(X[:60000])\n",
    "y_train = one_hot(y[:60000].astype(int), len(np.unique(y[:60000])))\n",
    "\n",
    "input_size = X_train.shape[1]\n",
    "output_size = y_train.shape[1]\n",
    "hidden_layers = 64\n",
    "\n",
    "model = NeuralNetwork(input_size, output_size, hidden_layers)\n",
    "model.train(X_train, y_train , epoch = 5, learning_rate = 4, batch_size = 128, optimiser = \"momentum\")\n",
    "\n",
    "X_test = np.array(X[60000:])\n",
    "y_test = one_hot(y[60000:].astype(int), len(np.unique(y[60000:]))) \n",
    "preds = model.predict(X[60000:])\n",
    "print('accuracy', model.accuracy(y_test, preds)*100)"
   ]
  },
  {
   "cell_type": "markdown",
   "id": "4bb7eff3-58b0-477e-ac74-5ca0dee55c73",
   "metadata": {},
   "source": [
    "# Tensorflow implementation"
   ]
  },
  {
   "cell_type": "code",
   "execution_count": 7,
   "id": "d2312224-deee-46d7-baa0-ac324fef8e6a",
   "metadata": {
    "tags": []
   },
   "outputs": [],
   "source": [
    "import tensorflow as tf \n",
    "import seaborn as sns\n",
    "import keras \n",
    "import matplotlib.pylab as plt"
   ]
  },
  {
   "cell_type": "code",
   "execution_count": 8,
   "id": "55af27c7-a115-4001-81f5-5cb610385c21",
   "metadata": {
    "tags": []
   },
   "outputs": [
    {
     "name": "stderr",
     "output_type": "stream",
     "text": [
      "/var/folders/xs/ryhm1w5n3y95mk12lz8x0dbw0000gq/T/ipykernel_97288/2753456165.py:3: FutureWarning: Support for multi-dimensional indexing (e.g. `obj[:, None]`) is deprecated and will be removed in a future version.  Convert to a numpy array before indexing instead.\n",
      "  return np.array(x[:, None] == np.arange(k), dtype)\n"
     ]
    }
   ],
   "source": [
    "X_train = np.array(X[:60000])\n",
    "y_train = one_hot(y[:60000].astype(int), len(np.unique(y[:60000])))"
   ]
  },
  {
   "cell_type": "code",
   "execution_count": 9,
   "id": "64deac0b-3b66-47c9-a016-665b26edf028",
   "metadata": {
    "tags": []
   },
   "outputs": [
    {
     "name": "stdout",
     "output_type": "stream",
     "text": [
      "Epoch 1/5\n",
      "1875/1875 [==============================] - 1s 591us/step - loss: 0.4668 - accuracy: 0.8864\n",
      "Epoch 2/5\n",
      "1875/1875 [==============================] - 1s 585us/step - loss: 0.2216 - accuracy: 0.9370\n",
      "Epoch 3/5\n",
      "1875/1875 [==============================] - 1s 592us/step - loss: 0.1736 - accuracy: 0.9507\n",
      "Epoch 4/5\n",
      "1875/1875 [==============================] - 1s 584us/step - loss: 0.1436 - accuracy: 0.9579\n",
      "Epoch 5/5\n",
      "1875/1875 [==============================] - 1s 575us/step - loss: 0.1223 - accuracy: 0.9642\n"
     ]
    },
    {
     "data": {
      "text/plain": [
       "<keras.src.callbacks.History at 0x3034f0750>"
      ]
     },
     "execution_count": 9,
     "metadata": {},
     "output_type": "execute_result"
    }
   ],
   "source": [
    "\n",
    "model = keras.Sequential([\n",
    "                            keras.layers.Dense(64, activation = 'sigmoid'),\n",
    "                            keras.layers.Dense(10, activation = 'softmax')]\n",
    "                            \n",
    "                            )\n",
    "model.compile( optimizer= 'adam', loss = 'categorical_crossentropy', metrics = ['accuracy'])\n",
    "\n",
    "model.fit(X_train, y_train, epochs = 5)"
   ]
  },
  {
   "cell_type": "code",
   "execution_count": 10,
   "id": "6f6f64e5-e02d-4d4a-b5ba-b5f908b59192",
   "metadata": {
    "tags": []
   },
   "outputs": [
    {
     "name": "stdout",
     "output_type": "stream",
     "text": [
      "313/313 [==============================] - 0s 377us/step\n"
     ]
    }
   ],
   "source": [
    "predictions = model.predict(X_test)\n",
    "y_pred = [np.argmax(i) for i in predictions]"
   ]
  },
  {
   "cell_type": "code",
   "execution_count": 11,
   "id": "56a86abf-e42c-4f42-a63c-2ceff93c28c1",
   "metadata": {
    "tags": []
   },
   "outputs": [],
   "source": [
    "y_test = np.array(y[60000:], dtype = 'int')"
   ]
  },
  {
   "cell_type": "code",
   "execution_count": 12,
   "id": "99b6752d-cc5d-4f81-b561-ba3622932c6a",
   "metadata": {
    "tags": []
   },
   "outputs": [
    {
     "data": {
      "text/plain": [
       "Text(95.72222222222221, 0.5, 'YPred')"
      ]
     },
     "execution_count": 12,
     "metadata": {},
     "output_type": "execute_result"
    },
    {
     "data": {
      "image/png": "[encoded data removed]",
      "text/plain": [
       "<Figure size 1000x1000 with 2 Axes>"
      ]
     },
     "metadata": {},
     "output_type": "display_data"
    }
   ],
   "source": [
    "cm = tf.math.confusion_matrix(labels = y_test, predictions = y_pred)\n",
    "plt.figure(figsize=(10,10))\n",
    "sns.heatmap(cm , annot = True , fmt ='d')\n",
    "plt.xlabel('YTest')\n",
    "plt.ylabel('YPred')"
   ]
  },
  {
   "cell_type": "code",
   "execution_count": null,
   "id": "f4252af5-f9f9-4135-b80d-07c3e673423d",
   "metadata": {},
   "outputs": [],
   "source": []
  }
 ],
 "metadata": {
  "kernelspec": {
   "display_name": "Python 3 (ipykernel)",
   "language": "python",
   "name": "python3"
  },
  "language_info": {
   "codemirror_mode": {
    "name": "ipython",
    "version": 3
   },
   "file_extension": ".py",
   "mimetype": "text/x-python",
   "name": "python",
   "nbconvert_exporter": "python",
   "pygments_lexer": "ipython3",
   "version": "3.11.6"
  }
 },
 "nbformat": 4,
 "nbformat_minor": 5
}
